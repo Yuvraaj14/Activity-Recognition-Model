{
  "nbformat": 4,
  "nbformat_minor": 0,
  "metadata": {
    "colab": {
      "provenance": []
    },
    "kernelspec": {
      "name": "python3",
      "display_name": "Python 3"
    },
    "language_info": {
      "name": "python"
    }
  },
  "cells": [
    {
      "cell_type": "code",
      "source": [
        "import requests\n",
        "from bs4 import BeautifulSoup\n",
        "import zipfile\n",
        "import io\n",
        "import pandas as pd\n",
        "from sklearn.cluster import KMeans\n",
        "from sklearn.model_selection import train_test_split\n",
        "from sklearn.preprocessing import LabelEncoder, StandardScaler\n",
        "from sklearn.linear_model import LogisticRegression\n",
        "from sklearn.pipeline import Pipeline\n",
        "from sklearn.metrics import accuracy_score, classification_report\n",
        "import numpy as np\n",
        "import time\n",
        "\n",
        "#Download and load dataset\n",
        "def load_data():\n",
        "    page_url = 'https://archive.ics.uci.edu/dataset/240/human+activity+recognition+using+smartphones'\n",
        "    page_response = requests.get(page_url)\n",
        "    if page_response.status_code == 200:\n",
        "        soup = BeautifulSoup(page_response.content, 'html.parser')\n",
        "        download_link = soup.select_one('a[href$=\".zip\"]')['href']\n",
        "        full_download_url = 'https://archive.ics.uci.edu' + download_link\n",
        "        response = requests.get(full_download_url)\n",
        "        if response.status_code == 200:\n",
        "            with zipfile.ZipFile(io.BytesIO(response.content)) as outer_zip:\n",
        "                inner_zip_name = 'UCI HAR Dataset.zip'\n",
        "                with outer_zip.open(inner_zip_name) as inner_zip_file:\n",
        "                    with zipfile.ZipFile(io.BytesIO(inner_zip_file.read())) as inner_zip:\n",
        "                        with inner_zip.open('UCI HAR Dataset/train/X_train.txt') as myfile:\n",
        "                            df = pd.read_csv(myfile, delim_whitespace=True, header=None)\n",
        "                        with inner_zip.open('UCI HAR Dataset/train/y_train.txt') as myfile_y:\n",
        "                            y = pd.read_csv(myfile_y, delim_whitespace=True, header=None)\n",
        "    else:\n",
        "        raise Exception(\"Failed to download or parse the dataset.\")\n",
        "    return df, y"
      ],
      "metadata": {
        "id": "6Ffvx4__VXbF"
      },
      "execution_count": 23,
      "outputs": []
    },
    {
      "cell_type": "code",
      "source": [
        "import pandas as pd\n",
        "from sklearn.model_selection import train_test_split\n",
        "from sklearn.preprocessing import LabelEncoder, StandardScaler\n",
        "from sklearn.linear_model import LogisticRegression\n",
        "from sklearn.pipeline import Pipeline\n",
        "from sklearn.metrics import accuracy_score\n",
        "from sklearn.cluster import KMeans\n",
        "import numpy as np\n",
        "import time\n",
        "\n",
        "# Load dataset\n",
        "df, y = load_data()\n",
        "\n",
        "# Task 1: EDA\n",
        "\n",
        "# Step 1: Dataset Dimensions\n",
        "print(f\"Shape of X_train: {df.shape}\")\n",
        "print(f\"Shape of y_train: {y.shape}\")\n",
        "\n",
        "# Step 2: Check for Missing Values\n",
        "print(\"Missing values in features:\", df.isnull().sum().sum())\n",
        "print(\"Missing values in target:\", y.isnull().sum().sum())\n",
        "\n",
        "# Step 3: Feature Overview\n",
        "print(df.describe())  # Summary statistics of the features\n",
        "\n",
        "# Step 4: Correlation Analysis\n",
        "correlation_matrix = df.corr()\n",
        "print(\"Correlation matrix:\\n\", correlation_matrix)\n",
        "\n",
        "# Step 5: Visualize Feature Distributions (Example for the first feature)\n",
        "import matplotlib.pyplot as plt\n",
        "import seaborn as sns\n",
        "\n",
        "sns.histplot(df[0], kde=True)\n",
        "plt.title(\"Distribution of Feature 1\")\n",
        "plt.show()"
      ],
      "metadata": {
        "id": "CzSu3aGmiwPA",
        "colab": {
          "base_uri": "https://localhost:8080/",
          "height": 1000
        },
        "outputId": "e91b40e7-79d4-41da-8748-55f5b6080a5b"
      },
      "execution_count": 24,
      "outputs": [
        {
          "output_type": "stream",
          "name": "stderr",
          "text": [
            "<ipython-input-23-09043bbb2352>:30: FutureWarning: The 'delim_whitespace' keyword in pd.read_csv is deprecated and will be removed in a future version. Use ``sep='\\s+'`` instead\n",
            "  df = pd.read_csv(myfile, delim_whitespace=True, header=None)\n",
            "<ipython-input-23-09043bbb2352>:32: FutureWarning: The 'delim_whitespace' keyword in pd.read_csv is deprecated and will be removed in a future version. Use ``sep='\\s+'`` instead\n",
            "  y = pd.read_csv(myfile_y, delim_whitespace=True, header=None)\n"
          ]
        },
        {
          "output_type": "stream",
          "name": "stdout",
          "text": [
            "Shape of X_train: (7352, 561)\n",
            "Shape of y_train: (7352, 1)\n",
            "Missing values in features: 0\n",
            "Missing values in target: 0\n",
            "               0            1            2            3            4    \\\n",
            "count  7352.000000  7352.000000  7352.000000  7352.000000  7352.000000   \n",
            "mean      0.274488    -0.017695    -0.109141    -0.605438    -0.510938   \n",
            "std       0.070261     0.040811     0.056635     0.448734     0.502645   \n",
            "min      -1.000000    -1.000000    -1.000000    -1.000000    -0.999873   \n",
            "25%       0.262975    -0.024863    -0.120993    -0.992754    -0.978129   \n",
            "50%       0.277193    -0.017219    -0.108676    -0.946196    -0.851897   \n",
            "75%       0.288461    -0.010783    -0.097794    -0.242813    -0.034231   \n",
            "max       1.000000     1.000000     1.000000     1.000000     0.916238   \n",
            "\n",
            "               5            6            7            8            9    ...  \\\n",
            "count  7352.000000  7352.000000  7352.000000  7352.000000  7352.000000  ...   \n",
            "mean     -0.604754    -0.630512    -0.526907    -0.606150    -0.468604  ...   \n",
            "std       0.418687     0.424073     0.485942     0.414122     0.544547  ...   \n",
            "min      -1.000000    -1.000000    -1.000000    -1.000000    -1.000000  ...   \n",
            "25%      -0.980233    -0.993591    -0.978162    -0.980251    -0.936219  ...   \n",
            "50%      -0.859365    -0.950709    -0.857328    -0.857143    -0.881637  ...   \n",
            "75%      -0.262415    -0.292680    -0.066701    -0.265671    -0.017129  ...   \n",
            "max       1.000000     1.000000     0.967664     1.000000     1.000000  ...   \n",
            "\n",
            "               551          552          553          554          555  \\\n",
            "count  7352.000000  7352.000000  7352.000000  7352.000000  7352.000000   \n",
            "mean      0.125293    -0.307009    -0.625294     0.008684     0.002186   \n",
            "std       0.250994     0.321011     0.307584     0.336787     0.448306   \n",
            "min      -1.000000    -0.995357    -0.999765    -0.976580    -1.000000   \n",
            "25%      -0.023692    -0.542602    -0.845573    -0.121527    -0.289549   \n",
            "50%       0.134000    -0.343685    -0.711692     0.009509     0.008943   \n",
            "75%       0.289096    -0.126979    -0.503878     0.150865     0.292861   \n",
            "max       0.946700     0.989538     0.956845     1.000000     1.000000   \n",
            "\n",
            "               556          557          558          559          560  \n",
            "count  7352.000000  7352.000000  7352.000000  7352.000000  7352.000000  \n",
            "mean      0.008726    -0.005981    -0.489547     0.058593    -0.056515  \n",
            "std       0.608303     0.477975     0.511807     0.297480     0.279122  \n",
            "min      -1.000000    -1.000000    -1.000000    -1.000000    -1.000000  \n",
            "25%      -0.482273    -0.376341    -0.812065    -0.017885    -0.143414  \n",
            "50%       0.008735    -0.000368    -0.709417     0.182071     0.003181  \n",
            "75%       0.506187     0.359368    -0.509079     0.248353     0.107659  \n",
            "max       0.998702     0.996078     1.000000     0.478157     1.000000  \n",
            "\n",
            "[8 rows x 561 columns]\n",
            "Correlation matrix:\n",
            "           0         1         2         3         4         5         6    \\\n",
            "0    1.000000  0.148061 -0.256952  0.000619 -0.021903 -0.044617  0.006290   \n",
            "1    0.148061  1.000000 -0.078769 -0.045160 -0.044920 -0.049746 -0.044180   \n",
            "2   -0.256952 -0.078769  1.000000 -0.020217 -0.016641 -0.008410 -0.018747   \n",
            "3    0.000619 -0.045160 -0.020217  1.000000  0.927461  0.851668  0.998632   \n",
            "4   -0.021903 -0.044920 -0.016641  0.927461  1.000000  0.895510  0.922803   \n",
            "..        ...       ...       ...       ...       ...       ...       ...   \n",
            "556  0.037444  0.017967 -0.063609  0.018985 -0.008507 -0.018429  0.019389   \n",
            "557  0.028844  0.075679 -0.034037 -0.024810 -0.014592 -0.006471 -0.024951   \n",
            "558 -0.035257 -0.005309  0.008587 -0.371653 -0.380531 -0.345011 -0.368191   \n",
            "559  0.034371  0.001053 -0.015288  0.471065  0.523600  0.476006  0.466424   \n",
            "560  0.028242 -0.013903 -0.022643  0.394825  0.433169  0.482828  0.390922   \n",
            "\n",
            "          7         8         9    ...       551       552       553  \\\n",
            "0   -0.022754 -0.047558  0.044062  ...  0.030681 -0.017557 -0.015613   \n",
            "1   -0.045049 -0.050402 -0.038108  ... -0.022395 -0.001587 -0.004459   \n",
            "2   -0.015203 -0.001988 -0.037197  ... -0.020481  0.020091  0.019127   \n",
            "3    0.920888  0.846392  0.980844  ... -0.065987  0.148034  0.115565   \n",
            "4    0.997347  0.894509  0.917366  ... -0.105621  0.206227  0.176946   \n",
            "..        ...       ...       ...  ...       ...       ...       ...   \n",
            "556 -0.012546 -0.023525  0.025066  ... -0.026615  0.034514  0.024553   \n",
            "557 -0.012341 -0.007231 -0.028871  ...  0.000102 -0.017937 -0.014865   \n",
            "558 -0.377025 -0.347389 -0.384192  ...  0.087332 -0.086006 -0.079751   \n",
            "559  0.525081  0.477607  0.480229  ... -0.100125  0.086993  0.078079   \n",
            "560  0.431459  0.479751  0.405023  ... -0.057468  0.057831  0.052548   \n",
            "\n",
            "          554       555       556       557       558       559       560  \n",
            "0   -0.544320  0.012173  0.037444  0.028844 -0.035257  0.034371  0.028242  \n",
            "1    0.070559 -0.013541  0.017967  0.075679 -0.005309  0.001053 -0.013903  \n",
            "2    0.052841 -0.039836 -0.063609 -0.034037  0.008587 -0.015288 -0.022643  \n",
            "3   -0.035011 -0.021633  0.018985 -0.024810 -0.371653  0.471065  0.394825  \n",
            "4   -0.020379 -0.012505 -0.008507 -0.014592 -0.380531  0.523600  0.433169  \n",
            "..        ...       ...       ...       ...       ...       ...       ...  \n",
            "556 -0.006269  0.009141  1.000000 -0.116001 -0.005853 -0.012313 -0.019903  \n",
            "557 -0.020823  0.035263 -0.116001  1.000000  0.023995 -0.005869 -0.005656  \n",
            "558  0.011880  0.023246 -0.005853  0.023995  1.000000 -0.783848 -0.643655  \n",
            "559  0.001540 -0.012990 -0.012313 -0.005869 -0.783848  1.000000  0.594885  \n",
            "560 -0.003069 -0.017520 -0.019903 -0.005656 -0.643655  0.594885  1.000000  \n",
            "\n",
            "[561 rows x 561 columns]\n"
          ]
        },
        {
          "output_type": "display_data",
          "data": {
            "text/plain": [
              "<Figure size 640x480 with 1 Axes>"
            ],
            "image/png": "[encoded data removed]"
          },
          "metadata": {}
        }
      ]
    },
    {
      "cell_type": "code",
      "source": [
        "# Task 2: Encode class labels\n",
        "\n",
        "label_encoder = LabelEncoder()\n",
        "encoded_y = label_encoder.fit_transform(y.values.ravel())"
      ],
      "metadata": {
        "id": "qV59H5IiH7V_"
      },
      "execution_count": 25,
      "outputs": []
    },
    {
      "cell_type": "code",
      "source": [
        "# Task 3: Scale the features using StandardScaler\n",
        "\n",
        "from sklearn.preprocessing import StandardScaler\n",
        "\n",
        "scaler = StandardScaler()\n",
        "df_scaled = scaler.fit_transform(df)"
      ],
      "metadata": {
        "id": "wx8xfBIqcPZk"
      },
      "execution_count": 26,
      "outputs": []
    },
    {
      "cell_type": "code",
      "source": [
        "# Task 4: Split the data into training and testing sets\n",
        "\n",
        "from sklearn.model_selection import train_test_split\n",
        "\n",
        "X_train_full, X_test_full, y_train, y_test = train_test_split(\n",
        "    df_scaled,\n",
        "    encoded_y,\n",
        "    test_size=0.2,\n",
        "    random_state=42\n",
        ")"
      ],
      "metadata": {
        "id": "zGcot3nmc91d"
      },
      "execution_count": 27,
      "outputs": []
    },
    {
      "cell_type": "code",
      "source": [
        "#TASK 5 - 1. Create a pipeline using Gaussian Naive Bayes\n",
        "\n",
        "from sklearn.naive_bayes import GaussianNB\n",
        "\n",
        "pipeline = Pipeline([\n",
        "    ('classifier', GaussianNB())\n",
        "])\n",
        "\n",
        "pipeline.fit(X_train_full, y_train)\n",
        "\n",
        "y_pred = pipeline.predict(X_test_full)\n",
        "\n",
        "accuracy = accuracy_score(y_test, y_pred)\n",
        "print(f\"Accuracy Score: {accuracy:.4f}\")\n",
        "\n",
        "print(\"\\nClassification Report:\")\n",
        "print(classification_report(y_test, y_pred))\n"
      ],
      "metadata": {
        "colab": {
          "base_uri": "https://localhost:8080/"
        },
        "id": "lr4mjXJ8ey27",
        "outputId": "1b0b7c6b-08b2-4d14-fe4e-0ef9e94ab962"
      },
      "execution_count": 28,
      "outputs": [
        {
          "output_type": "stream",
          "name": "stdout",
          "text": [
            "Accuracy Score: 0.7315\n",
            "\n",
            "Classification Report:\n",
            "              precision    recall  f1-score   support\n",
            "\n",
            "           0       0.93      0.74      0.82       247\n",
            "           1       0.65      0.91      0.76       200\n",
            "           2       0.83      0.76      0.79       206\n",
            "           3       0.51      0.74      0.60       262\n",
            "           4       0.80      0.89      0.84       276\n",
            "           5       0.96      0.41      0.58       280\n",
            "\n",
            "    accuracy                           0.73      1471\n",
            "   macro avg       0.78      0.74      0.73      1471\n",
            "weighted avg       0.78      0.73      0.73      1471\n",
            "\n"
          ]
        }
      ]
    },
    {
      "cell_type": "code",
      "source": [
        "#TASK 6 - 1. Note the start time before defining the pipeline\n",
        "#         2. Note the end time and report the difference as the time taken by the model training and inference.\n",
        "\n",
        "import time\n",
        "\n",
        "start_time = time.time()\n",
        "\n",
        "from sklearn.pipeline import Pipeline\n",
        "from sklearn.naive_bayes import GaussianNB\n",
        "from sklearn.metrics import accuracy_score, classification_report\n",
        "\n",
        "pipeline = Pipeline([\n",
        "    ('classifier', GaussianNB())\n",
        "])\n",
        "\n",
        "pipeline.fit(X_train_full, y_train)\n",
        "\n",
        "y_pred = pipeline.predict(X_test_full)\n",
        "\n",
        "end_time = time.time()\n",
        "\n",
        "time_taken = end_time - start_time\n",
        "\n",
        "print(f\"Time Taken: {time_taken:.4f} seconds\")\n",
        "accuracy = accuracy_score(y_test, y_pred)\n",
        "print(f\"Accuracy Score: {accuracy:.4f}\")\n",
        "\n",
        "print(\"\\nClassification Report:\")\n",
        "print(classification_report(y_test, y_pred))\n",
        "\n",
        "\n"
      ],
      "metadata": {
        "colab": {
          "base_uri": "https://localhost:8080/"
        },
        "id": "NkA2z_ate0oy",
        "outputId": "ea70faf4-5055-46b7-9a51-373a23b3895f"
      },
      "execution_count": 29,
      "outputs": [
        {
          "output_type": "stream",
          "name": "stdout",
          "text": [
            "Time Taken: 0.0582 seconds\n",
            "Accuracy Score: 0.7315\n",
            "\n",
            "Classification Report:\n",
            "              precision    recall  f1-score   support\n",
            "\n",
            "           0       0.93      0.74      0.82       247\n",
            "           1       0.65      0.91      0.76       200\n",
            "           2       0.83      0.76      0.79       206\n",
            "           3       0.51      0.74      0.60       262\n",
            "           4       0.80      0.89      0.84       276\n",
            "           5       0.96      0.41      0.58       280\n",
            "\n",
            "    accuracy                           0.73      1471\n",
            "   macro avg       0.78      0.74      0.73      1471\n",
            "weighted avg       0.78      0.73      0.73      1471\n",
            "\n"
          ]
        }
      ]
    },
    {
      "cell_type": "code",
      "source": [
        "# SOLUTION FOR TASK 5 and 6\n",
        "\n",
        "# Define a Pipeline with Gaussian Naive Bayes and train it on the full dataset\n",
        "\n",
        "start_time = time.time()\n",
        "classifier_pipeline_full = Pipeline([\n",
        "    ('classifier', GaussianNB())\n",
        "])\n",
        "classifier_pipeline_full.fit(X_train_full, y_train)\n",
        "y_pred_full = classifier_pipeline_full.predict(X_test_full)\n",
        "end_time = time.time()\n",
        "full_features_time = end_time - start_time\n",
        "accuracy_full = accuracy_score(y_test, y_pred_full)\n",
        "print(f\"Accuracy Score: {accuracy_full:.4f}\")"
      ],
      "metadata": {
        "colab": {
          "base_uri": "https://localhost:8080/"
        },
        "id": "REdBz2kFj5qG",
        "outputId": "b079ac49-dac2-4829-92d4-4b790adcb2d7"
      },
      "execution_count": 30,
      "outputs": [
        {
          "output_type": "stream",
          "name": "stdout",
          "text": [
            "Accuracy Score: 0.7315\n"
          ]
        }
      ]
    },
    {
      "cell_type": "code",
      "source": [
        "# TASK 7 - K-Means for dimensionality reduction\n",
        "n_clusters = 50\n",
        "kmeans = KMeans(n_clusters=n_clusters, random_state=42, n_init=10)\n",
        "kmeans.fit(df_scaled.T)  # Transpose to treat features as data points\n",
        "selected_features_indices = [np.random.choice(np.where(kmeans.labels_ == i)[0]) for i in range(n_clusters)]\n",
        "selected_features = df_scaled[:, selected_features_indices]"
      ],
      "metadata": {
        "id": "kuJC1nU7j9bc"
      },
      "execution_count": 31,
      "outputs": []
    },
    {
      "cell_type": "code",
      "source": [
        "#TASK 8 - Train another model (GaussianNB) on the new dataset, and report time taken and accuracy\n",
        "\n",
        "from sklearn.naive_bayes import GaussianNB\n",
        "import time\n",
        "\n",
        "start_time = time.time()\n",
        "\n",
        "X_train_reduced, X_test_reduced, y_train_reduced, y_test_reduced = train_test_split(\n",
        "    selected_features,  # Reduced features\n",
        "    encoded_y,          # Target labels\n",
        "    test_size=0.2,      # 20% for testing\n",
        "    random_state=42,\n",
        "    stratify=encoded_y\n",
        ")\n",
        "\n",
        "pipeline_reduced = Pipeline([\n",
        "    ('classifier', GaussianNB())\n",
        "])\n",
        "\n",
        "pipeline_reduced.fit(X_train_reduced, y_train_reduced)\n",
        "\n",
        "y_pred_reduced = pipeline_reduced.predict(X_test_reduced)\n",
        "\n",
        "end_time = time.time()\n",
        "\n",
        "time_taken_reduced = end_time - start_time\n",
        "\n",
        "accuracy_reduced = accuracy_score(y_test_reduced, y_pred_reduced)\n",
        "print(f\"Time Taken on Reduced Dataset: {time_taken_reduced:.4f} seconds\")\n",
        "print(f\"Accuracy on Reduced Dataset: {accuracy_reduced:.4f}\")\n",
        "\n",
        "print(\"\\nClassification Report on Reduced Dataset:\")\n",
        "print(classification_report(y_test_reduced, y_pred_reduced))\n"
      ],
      "metadata": {
        "colab": {
          "base_uri": "https://localhost:8080/"
        },
        "id": "X_Nbi3taxDlQ",
        "outputId": "0a866586-55ff-4418-e03e-4d5174bcbed6"
      },
      "execution_count": 32,
      "outputs": [
        {
          "output_type": "stream",
          "name": "stdout",
          "text": [
            "Time Taken on Reduced Dataset: 0.0193 seconds\n",
            "Accuracy on Reduced Dataset: 0.8423\n",
            "\n",
            "Classification Report on Reduced Dataset:\n",
            "              precision    recall  f1-score   support\n",
            "\n",
            "           0       0.89      0.87      0.88       245\n",
            "           1       0.84      0.95      0.89       215\n",
            "           2       0.85      0.79      0.82       197\n",
            "           3       0.89      0.52      0.66       257\n",
            "           4       0.69      0.92      0.79       275\n",
            "           5       0.98      0.99      0.99       282\n",
            "\n",
            "    accuracy                           0.84      1471\n",
            "   macro avg       0.86      0.84      0.84      1471\n",
            "weighted avg       0.86      0.84      0.84      1471\n",
            "\n"
          ]
        }
      ]
    }
  ]
}
